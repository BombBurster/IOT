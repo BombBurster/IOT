{
 "cells": [
  {
   "cell_type": "code",
   "execution_count": null,
   "metadata": {},
   "outputs": [],
   "source": [
    "import pandas as pd\n",
    "import numpy as np\n",
    "import random\n",
    "\n",
    "dataset = pd.read_csv('phone.csv')\n",
    "\n",
    "def split_test_train(data, id_column, threshold):\n",
    "    user_ids = data[id_column].unique()\n",
    "    user_ids = user_ids.astype(int)\n",
    "    shape = user_ids.shape\n",
    "    no_of_train_ids = np.rint(shape[0] * 0.8)\n",
    "    user_train = []\n",
    "#     print(no_of_train_ids)\n",
    "    train_shape = len(user_train)\n",
    "    while train_shape < 41:\n",
    "        random_id = random.randint(user_ids.min(), user_ids.max())\n",
    "#         print(random_id)\n",
    "        if random_id in user_train:\n",
    "            continue\n",
    "        elif random_id in user_ids:\n",
    "            user_train.append(random_id)\n",
    "#             print(user_train)\n",
    "            train_shape = len(user_train)\n",
    "    user_test = np.setdiff1d(user_ids,user_train)\n",
    "    column_names = data.keys()\n",
    "    train = pd.DataFrame(columns = column_names)\n",
    "    test = pd.DataFrame(columns = column_names)\n",
    "    for index, row in data.iterrows():\n",
    "        if row['user-id'] in user_train:\n",
    "            train = train.append(row)\n",
    "        elif row['user-id'] in user_test:\n",
    "            test = test.append(row)\n",
    "        else:\n",
    "            print('not matched user-id')\n",
    "    \n",
    "split_test_train(dataset, 'user-id', 0.8)"
   ]
  },
  {
   "cell_type": "code",
   "execution_count": 18,
   "metadata": {},
   "outputs": [
    {
     "ename": "NameError",
     "evalue": "name 'train' is not defined",
     "output_type": "error",
     "traceback": [
      "\u001b[0;31m---------------------------------------------------------------------------\u001b[0m",
      "\u001b[0;31mNameError\u001b[0m                                 Traceback (most recent call last)",
      "\u001b[0;32m<ipython-input-18-e2d4cbdc0a1a>\u001b[0m in \u001b[0;36m<module>\u001b[0;34m\u001b[0m\n\u001b[0;32m----> 1\u001b[0;31m \u001b[0mprint\u001b[0m\u001b[0;34m(\u001b[0m\u001b[0mtrain\u001b[0m\u001b[0;34m)\u001b[0m\u001b[0;34m\u001b[0m\u001b[0;34m\u001b[0m\u001b[0m\n\u001b[0m\u001b[1;32m      2\u001b[0m \u001b[0mprint\u001b[0m\u001b[0;34m(\u001b[0m\u001b[0mtest\u001b[0m\u001b[0;34m)\u001b[0m\u001b[0;34m\u001b[0m\u001b[0;34m\u001b[0m\u001b[0m\n",
      "\u001b[0;31mNameError\u001b[0m: name 'train' is not defined"
     ]
    }
   ],
   "source": [
    "print(train)\n",
    "print(test)\n",
    "train.to_csv('phone_train.csv', index=False)\n",
    "test.to_csv('phone_test.csv', index=False)"
   ]
  },
  {
   "cell_type": "code",
   "execution_count": null,
   "metadata": {},
   "outputs": [],
   "source": []
  }
 ],
 "metadata": {
  "kernelspec": {
   "display_name": "Python 3",
   "language": "python",
   "name": "python3"
  }
 },
 "nbformat": 4,
 "nbformat_minor": 2
}
